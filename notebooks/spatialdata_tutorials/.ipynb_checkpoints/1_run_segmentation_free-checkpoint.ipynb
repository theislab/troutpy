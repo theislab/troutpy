{
 "cells": [
  {
   "cell_type": "markdown",
   "metadata": {},
   "source": [
    "# 1. Run segmentation free methods"
   ]
  },
  {
   "cell_type": "code",
   "execution_count": null,
   "metadata": {},
   "outputs": [],
   "source": [
    "We "
   ]
  },
  {
   "cell_type": "code",
   "execution_count": null,
   "metadata": {},
   "outputs": [],
   "source": [
    "import spatialdata_io\n",
    "import spatialdata as sd\n",
    "import pandas as pd\n",
    "import spatialdata_plot\n",
    "import sys\n",
    "sys.path.append(\"../../src\")\n",
    "import troutpy \n",
    "import numpy as np"
   ]
  },
  {
   "cell_type": "code",
   "execution_count": 2,
   "metadata": {},
   "outputs": [
    {
     "name": "stderr",
     "output_type": "stream",
     "text": [
      "/home/sergio/.local/lib/python3.10/site-packages/zarr/creation.py:614: UserWarning: ignoring keyword argument 'read_only'\n",
      "  compressor, fill_value = _kwargs_compat(compressor, fill_value, kwargs)\n",
      "/home/sergio/.local/lib/python3.10/site-packages/zarr/creation.py:614: UserWarning: ignoring keyword argument 'read_only'\n",
      "  compressor, fill_value = _kwargs_compat(compressor, fill_value, kwargs)\n",
      "/home/sergio/.local/lib/python3.10/site-packages/zarr/creation.py:614: UserWarning: ignoring keyword argument 'read_only'\n",
      "  compressor, fill_value = _kwargs_compat(compressor, fill_value, kwargs)\n",
      "/home/sergio/.local/lib/python3.10/site-packages/zarr/creation.py:614: UserWarning: ignoring keyword argument 'read_only'\n",
      "  compressor, fill_value = _kwargs_compat(compressor, fill_value, kwargs)\n",
      "/home/sergio/.local/lib/python3.10/site-packages/zarr/creation.py:614: UserWarning: ignoring keyword argument 'read_only'\n",
      "  compressor, fill_value = _kwargs_compat(compressor, fill_value, kwargs)\n",
      "/home/sergio/.local/lib/python3.10/site-packages/zarr/creation.py:614: UserWarning: ignoring keyword argument 'read_only'\n",
      "  compressor, fill_value = _kwargs_compat(compressor, fill_value, kwargs)\n"
     ]
    }
   ],
   "source": [
    "xenium_path_cropped='/media/sergio/Discovair_final/mousebrain_prime_crop.zarr'\n",
    "sdata= sd.read_zarr(xenium_path_cropped)"
   ]
  },
  {
   "cell_type": "markdown",
   "metadata": {},
   "source": [
    "### Run  segmentation-free (points2regions)"
   ]
  },
  {
   "cell_type": "code",
   "execution_count": null,
   "metadata": {},
   "outputs": [
    {
     "name": "stderr",
     "output_type": "stream",
     "text": [
      "/home/sergio/.local/lib/python3.10/site-packages/spatialdata/_core/_elements.py:106: UserWarning: Key `transcripts` already exists. Overwriting it in-memory.\n",
      "  self._check_key(key, self.keys(), self._shared_keys)\n"
     ]
    },
    {
     "name": "stdout",
     "output_type": "stream",
     "text": [
      "Creating anndata\n"
     ]
    },
    {
     "name": "stderr",
     "output_type": "stream",
     "text": [
      "/home/sergio/.local/lib/python3.10/site-packages/spatialdata/_core/_elements.py:106: UserWarning: Key `transcripts` already exists. Overwriting it in-memory.\n",
      "  self._check_key(key, self.keys(), self._shared_keys)\n"
     ]
    }
   ],
   "source": [
    "#define points2regions_params\n",
    "points2regions_params={'num_clusters':100,  'pixel_width':0.4,  'pixel_smoothing':3.5}\n",
    "#run_segmentation_free\n",
    "troutpy.tl.segmentation_free_clustering(sdata, params=points2regions_params, \n",
    "    x='x',  y='y',  feature_name='feature_name',  transcript_id='transcript_id')"
   ]
  },
  {
   "cell_type": "markdown",
   "metadata": {},
   "source": [
    "### Define extracellular transcripts"
   ]
  },
  {
   "cell_type": "code",
   "execution_count": null,
   "metadata": {},
   "outputs": [
    {
     "name": "stderr",
     "output_type": "stream",
     "text": [
      "/home/sergio/.local/lib/python3.10/site-packages/spatialdata/_core/_elements.py:106: UserWarning: Key `transcripts` already exists. Overwriting it in-memory.\n",
      "  self._check_key(key, self.keys(), self._shared_keys)\n"
     ]
    }
   ],
   "source": [
    "troutpy.pp.define_extracellular(sdata, method='segmentation_free',min_prop_of_extracellular=0.8) "
   ]
  },
  {
   "cell_type": "code",
   "execution_count": 5,
   "metadata": {},
   "outputs": [
    {
     "data": {
      "text/plain": [
       "5132696"
      ]
     },
     "execution_count": 5,
     "metadata": {},
     "output_type": "execute_result"
    }
   ],
   "source": [
    "len(sdata.points['transcripts']['extracellular'].compute())"
   ]
  },
  {
   "cell_type": "code",
   "execution_count": 6,
   "metadata": {},
   "outputs": [
    {
     "data": {
      "text/plain": [
       "4298397"
      ]
     },
     "execution_count": 6,
     "metadata": {},
     "output_type": "execute_result"
    }
   ],
   "source": [
    "\n",
    "np.sum(sdata.points['transcripts']['extracellular'].compute())"
   ]
  },
  {
   "cell_type": "code",
   "execution_count": 7,
   "metadata": {},
   "outputs": [
    {
     "name": "stdout",
     "output_type": "stream",
     "text": [
      "\u001b[34mINFO    \u001b[0m The SpatialData object is not self-contained \u001b[1m(\u001b[0mi.e. it contains some elements that are Dask-backed from    \n",
      "         locations outside \u001b[35m/media/sergio/Discovair_final/\u001b[0m\u001b[95mmousebrain_prime_crop_points2regions.zarr\u001b[0m\u001b[1m)\u001b[0m. Please see the\n",
      "         documentation of `\u001b[1;35mis_self_contained\u001b[0m\u001b[1m(\u001b[0m\u001b[1m)\u001b[0m` to understand the implications of working with SpatialData objects \n",
      "         that are not self-contained.                                                                              \n",
      "\u001b[34mINFO    \u001b[0m The Zarr backing store has been changed from \u001b[35m/media/sergio/Discovair_final/\u001b[0m\u001b[95mmousebrain_prime_crop.zarr\u001b[0m the \n",
      "         new file path: \u001b[35m/media/sergio/Discovair_final/\u001b[0m\u001b[95mmousebrain_prime_crop_points2regions.zarr\u001b[0m                    \n"
     ]
    }
   ],
   "source": [
    "xenium_path_cropped='/media/sergio/Discovair_final/mousebrain_prime_crop_points2regions.zarr'\n",
    "sdata.write(xenium_path_cropped,overwrite=True)"
   ]
  },
  {
   "cell_type": "code",
   "execution_count": null,
   "metadata": {},
   "outputs": [],
   "source": [
    "### work a bit into better functions for plotting here\n",
    "plot_data=sdata.points['transcripts'][['segmentation_free_clusters','overlaps_cell','overlaps_nucleus']].compute()\n",
    "troutpy.pl.plot_crosstab(plot_data,xvar='segmentation_free_clusters',yvar='overlaps_cell',normalize=True,axis=1,kind='bar',figsize=(20,7),stacked=True,cmap='coolwarm',sortby=True)\n",
    "troutpy.pl.plot_crosstab(plot_data,xvar='segmentation_free_clusters',yvar='overlaps_nucleus',normalize=True,axis=1,kind='bar',figsize=(20,7),stacked=True,cmap='coolwarm',sortby=1)\n",
    "\n",
    "\n",
    "input_data=sdata.points['transcripts'][['missegmentation_associated']].compute()\n",
    "troutpy.pl.pie_of_positive(input_data,groupby='missegmentation_associated',save=True)"
   ]
  }
 ],
 "metadata": {
  "kernelspec": {
   "display_name": "Python 3 (ipykernel)",
   "language": "python",
   "name": "python3"
  },
  "language_info": {
   "codemirror_mode": {
    "name": "ipython",
    "version": 3
   },
   "file_extension": ".py",
   "mimetype": "text/x-python",
   "name": "python",
   "nbconvert_exporter": "python",
   "pygments_lexer": "ipython3",
   "version": "3.8.8"
  }
 },
 "nbformat": 4,
 "nbformat_minor": 2
}
