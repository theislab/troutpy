{
 "cells": [
  {
   "cell_type": "markdown",
   "metadata": {},
   "source": [
    "# 1. Run segmentation "
   ]
  },
  {
   "cell_type": "markdown",
   "metadata": {},
   "source": [
    "We want to perform segmentation to identify cells using SOPA. Further information can be found at [this link](https://gustaveroussy.github.io/sopa)"
   ]
  },
  {
   "cell_type": "markdown",
   "metadata": {},
   "source": [
    "## Import packages"
   ]
  },
  {
   "cell_type": "code",
   "execution_count": 1,
   "metadata": {},
   "outputs": [
    {
     "name": "stderr",
     "output_type": "stream",
     "text": [
      "/home/icb/francesca.drummer/.local/lib/python3.12/site-packages/dask/dataframe/__init__.py:31: FutureWarning: The legacy Dask DataFrame implementation is deprecated and will be removed in a future version. Set the configuration option `dataframe.query-planning` to `True` or None to enable the new Dask Dataframe implementation and silence this warning.\n",
      "  warnings.warn(\n",
      "/home/icb/francesca.drummer/.local/lib/python3.12/site-packages/anndata/utils.py:429: FutureWarning: Importing read_text from `anndata` is deprecated. Import anndata.io.read_text instead.\n",
      "  warnings.warn(msg, FutureWarning)\n"
     ]
    }
   ],
   "source": [
    "import spatialdata as sd\n",
    "import sopa \n",
    "import troutpy\n",
    "import scanpy as sc\n",
    "\n",
    "import sys"
   ]
  },
  {
   "cell_type": "markdown",
   "metadata": {},
   "source": [
    "## Set up paths"
   ]
  },
  {
   "cell_type": "code",
   "execution_count": 3,
   "metadata": {},
   "outputs": [],
   "source": [
    "sys.path.insert(0, \"../../\")  # this depends on the notebook depth and must be adapted per notebook\n",
    "\n",
    "from _paths import PROJECT_DIR, RESULTS_DIR, xenium_path_cropped"
   ]
  },
  {
   "cell_type": "markdown",
   "metadata": {},
   "source": [
    "## Read SpatialData dataset"
   ]
  },
  {
   "cell_type": "markdown",
   "metadata": {},
   "source": [
    "We read the sdata cropped object we created in ``0.format_xenium_sdata.ipynb``"
   ]
  },
  {
   "cell_type": "code",
   "execution_count": 4,
   "metadata": {},
   "outputs": [
    {
     "data": {
      "text/plain": [
       "'/ictstr01/home/icb/francesca.drummer/1-Projects/troutpy/notebooks/spatialdata_tutorials'"
      ]
     },
     "execution_count": 4,
     "metadata": {},
     "output_type": "execute_result"
    }
   ],
   "source": [
    "import os\n",
    "os.getcwd()"
   ]
  },
  {
   "cell_type": "code",
   "execution_count": 5,
   "metadata": {},
   "outputs": [
    {
     "data": {
      "text/plain": [
       "PosixPath('/lustre/groups/ml01/datasets/projects/2025_sergio_troutpy/example_datasets/mousebrain_prime_crop_communication.zarr')"
      ]
     },
     "execution_count": 5,
     "metadata": {},
     "output_type": "execute_result"
    }
   ],
   "source": [
    "xenium_path_cropped"
   ]
  },
  {
   "cell_type": "code",
   "execution_count": 6,
   "metadata": {},
   "outputs": [
    {
     "data": {
      "text/plain": [
       "['example_datasets', 'mousebrain_prime_crop.zarr']"
      ]
     },
     "execution_count": 6,
     "metadata": {},
     "output_type": "execute_result"
    }
   ],
   "source": [
    "os.listdir('/lustre/groups/ml01/datasets/projects/2025_sergio_troutpy/')"
   ]
  },
  {
   "cell_type": "code",
   "execution_count": 7,
   "metadata": {},
   "outputs": [
    {
     "name": "stdout",
     "output_type": "stream",
     "text": [
      "ls: cannot access '/lustre/groups/ml01/datasets/projects/2025_sergio_troutpy/mousebrain_prime_crop_communication.zarr': No such file or directory\n"
     ]
    }
   ],
   "source": [
    "ls -lh /lustre/groups/ml01/datasets/projects/2025_sergio_troutpy/mousebrain_prime_crop_communication.zarr"
   ]
  },
  {
   "cell_type": "code",
   "execution_count": 9,
   "metadata": {},
   "outputs": [],
   "source": [
    "sdata = sd.read_zarr(xenium_path_cropped)"
   ]
  },
  {
   "cell_type": "markdown",
   "metadata": {},
   "source": [
    "Next we will create the image patches needed for segmentation"
   ]
  },
  {
   "cell_type": "code",
   "execution_count": 11,
   "metadata": {},
   "outputs": [
    {
     "name": "stderr",
     "output_type": "stream",
     "text": [
      "\u001b[36;20m[INFO] (sopa.patches._patches)\u001b[0m Added 6 patche(s) to sdata['image_patches']\n"
     ]
    }
   ],
   "source": [
    "sopa.make_image_patches(sdata) # creating overlapping patches"
   ]
  },
  {
   "cell_type": "markdown",
   "metadata": {},
   "source": [
    "We will run Cellpose segmentation using the DAPI and 18S layers in this example"
   ]
  },
  {
   "cell_type": "code",
   "execution_count": null,
   "metadata": {},
   "outputs": [
    {
     "name": "stderr",
     "output_type": "stream",
     "text": [
      "\u001b[33;20m[WARNING] (sopa._settings)\u001b[0m Running without parallelization backend can be slow. Consider using a backend, e.g. via `sopa.settings.parallelization_backend = 'dask'`, or `export SOPA_PARALLELIZATION_BACKEND=dask`.\n",
      "  0%|          | 0/6 [00:00<?, ?it/s]\n",
      "\u001b[A%|          | 0.00/25.3M [00:00<?, ?B/s]\n",
      "\u001b[A%|          | 32.0k/25.3M [00:00<01:23, 318kB/s]\n",
      "\u001b[A%|          | 96.0k/25.3M [00:00<00:57, 462kB/s]\n",
      "\u001b[A%|          | 208k/25.3M [00:00<00:37, 698kB/s] \n",
      "\u001b[A%|▏         | 432k/25.3M [00:00<00:21, 1.19MB/s]\n",
      "\u001b[A%|▎         | 880k/25.3M [00:00<00:11, 2.16MB/s]\n",
      "\u001b[A%|▋         | 1.73M/25.3M [00:00<00:06, 4.06MB/s]\n",
      "\u001b[A%|█▍        | 3.50M/25.3M [00:00<00:02, 7.83MB/s]\n",
      "\u001b[A%|██▍       | 6.27M/25.3M [00:00<00:01, 12.9MB/s]\n",
      "\u001b[A%|███▋      | 9.44M/25.3M [00:01<00:00, 17.3MB/s]\n",
      "\u001b[A%|█████▏    | 13.2M/25.3M [00:01<00:00, 21.9MB/s]\n",
      "\u001b[A%|██████▋   | 16.9M/25.3M [00:01<00:00, 25.2MB/s]\n",
      "\u001b[A%|███████▊  | 19.8M/25.3M [00:01<00:00, 25.5MB/s]\n",
      "100%|██████████| 25.3M/25.3M [00:01<00:00, 16.7MB/s]\n",
      "\n",
      "100%|██████████| 3.54k/3.54k [00:00<00:00, 7.20MB/s]\n"
     ]
    }
   ],
   "source": [
    "sopa.segmentation.cellpose(sdata, [\"DAPI\",\"18S\"], diameter=2) # running cellpose segmentation\n",
    "sopa.aggregate(sdata, shapes_key=\"cellpose_boundaries\", key_added='table',gene_column='feature_name')"
   ]
  },
  {
   "cell_type": "markdown",
   "metadata": {},
   "source": [
    "We plot the location of cells "
   ]
  },
  {
   "cell_type": "code",
   "execution_count": null,
   "metadata": {},
   "outputs": [],
   "source": [
    "sc.pl.spatial(sdata.tables['table'],spot_size=10,palette='viridis')"
   ]
  },
  {
   "cell_type": "markdown",
   "metadata": {},
   "source": [
    "Finally, we save the spatialdata object as zarr"
   ]
  },
  {
   "cell_type": "code",
   "execution_count": null,
   "metadata": {},
   "outputs": [],
   "source": [
    "xenium_path_cropped = \"/media/sergio/Discovair_final/mousebrain_prime_crop_points2regions.zarr\"\n",
    "sdata.write(xenium_path_cropped, overwrite=True)"
   ]
  }
 ],
 "metadata": {
  "kernelspec": {
   "display_name": "Python 3 (ipykernel)",
   "language": "python",
   "name": "python3"
  },
  "language_info": {
   "codemirror_mode": {
    "name": "ipython",
    "version": 3
   },
   "file_extension": ".py",
   "mimetype": "text/x-python",
   "name": "python",
   "nbconvert_exporter": "python",
   "pygments_lexer": "ipython3",
   "version": "3.12.1"
  }
 },
 "nbformat": 4,
 "nbformat_minor": 4
}
