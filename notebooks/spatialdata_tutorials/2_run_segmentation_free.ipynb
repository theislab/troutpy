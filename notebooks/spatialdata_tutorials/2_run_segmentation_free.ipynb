{
 "cells": [
  {
   "cell_type": "markdown",
   "metadata": {},
   "source": [
    "# 2. Run segmentation free methods"
   ]
  },
  {
   "cell_type": "markdown",
   "metadata": {},
   "source": [
    "We want to perform segmentation-free methods in order to identify areas that locally resemble cell bodies and, thus, could be considered as intracellular. In this notebook we perform segmentation-free analysis with different algorithms (t.b.a)"
   ]
  },
  {
   "cell_type": "markdown",
   "metadata": {},
   "source": [
    "## Import packages"
   ]
  },
  {
   "cell_type": "code",
   "execution_count": 1,
   "metadata": {},
   "outputs": [
    {
     "name": "stderr",
     "output_type": "stream",
     "text": [
      "/home/sergio/.local/lib/python3.10/site-packages/dask/dataframe/__init__.py:31: FutureWarning: The legacy Dask DataFrame implementation is deprecated and will be removed in a future version. Set the configuration option `dataframe.query-planning` to `True` or None to enable the new Dask Dataframe implementation and silence this warning.\n",
      "  warnings.warn(\n",
      "/home/sergio/.local/lib/python3.10/site-packages/numba/core/decorators.py:246: RuntimeWarning: nopython is set for njit and is ignored\n",
      "  warnings.warn('nopython is set for njit and is ignored', RuntimeWarning)\n",
      "/home/sergio/.local/lib/python3.10/site-packages/anndata/utils.py:429: FutureWarning: Importing read_text from `anndata` is deprecated. Import anndata.io.read_text instead.\n",
      "  warnings.warn(msg, FutureWarning)\n"
     ]
    }
   ],
   "source": [
    "import spatialdata as sd\n",
    "import troutpy"
   ]
  },
  {
   "cell_type": "markdown",
   "metadata": {},
   "source": [
    "## Read SpatialData dataset"
   ]
  },
  {
   "cell_type": "markdown",
   "metadata": {},
   "source": [
    "We read the sdata cropped object we created in ``0.format_xenium_sdata.ipynb``"
   ]
  },
  {
   "cell_type": "code",
   "execution_count": 8,
   "metadata": {},
   "outputs": [
    {
     "name": "stderr",
     "output_type": "stream",
     "text": [
      "/home/sergio/.local/lib/python3.10/site-packages/zarr/creation.py:614: UserWarning: ignoring keyword argument 'read_only'\n",
      "  compressor, fill_value = _kwargs_compat(compressor, fill_value, kwargs)\n",
      "/home/sergio/.local/lib/python3.10/site-packages/zarr/creation.py:614: UserWarning: ignoring keyword argument 'read_only'\n",
      "  compressor, fill_value = _kwargs_compat(compressor, fill_value, kwargs)\n",
      "/home/sergio/.local/lib/python3.10/site-packages/zarr/creation.py:614: UserWarning: ignoring keyword argument 'read_only'\n",
      "  compressor, fill_value = _kwargs_compat(compressor, fill_value, kwargs)\n",
      "/home/sergio/.local/lib/python3.10/site-packages/zarr/creation.py:614: UserWarning: ignoring keyword argument 'read_only'\n",
      "  compressor, fill_value = _kwargs_compat(compressor, fill_value, kwargs)\n",
      "/home/sergio/.local/lib/python3.10/site-packages/zarr/creation.py:614: UserWarning: ignoring keyword argument 'read_only'\n",
      "  compressor, fill_value = _kwargs_compat(compressor, fill_value, kwargs)\n",
      "/home/sergio/.local/lib/python3.10/site-packages/zarr/creation.py:614: UserWarning: ignoring keyword argument 'read_only'\n",
      "  compressor, fill_value = _kwargs_compat(compressor, fill_value, kwargs)\n"
     ]
    }
   ],
   "source": [
    "xenium_path_cropped = \"/media/sergio/Discovair_final/mousebrain_prime_crop.zarr\"\n",
    "sdata = sd.read_zarr(xenium_path_cropped)"
   ]
  },
  {
   "cell_type": "markdown",
   "metadata": {},
   "source": [
    "### Run  segmentation-free (points2regions)"
   ]
  },
  {
   "cell_type": "markdown",
   "metadata": {},
   "source": [
    "We use ``troutpy.tl.segmentation_free_clustering`` to perform segmentation-free clustering. Several segmentation-free algorithms are implemented within troutpy. In this case, we apply points2regions (Andersson et al. 2024) to define the main segmentation-free clusters "
   ]
  },
  {
   "cell_type": "code",
   "execution_count": 9,
   "metadata": {},
   "outputs": [
    {
     "name": "stderr",
     "output_type": "stream",
     "text": [
      "/home/sergio/.local/lib/python3.10/site-packages/spatialdata/_core/_elements.py:106: UserWarning: Key `transcripts` already exists. Overwriting it in-memory.\n",
      "  self._check_key(key, self.keys(), self._shared_keys)\n"
     ]
    },
    {
     "name": "stdout",
     "output_type": "stream",
     "text": [
      "Creating anndata\n"
     ]
    },
    {
     "name": "stderr",
     "output_type": "stream",
     "text": [
      "/home/sergio/.local/lib/python3.10/site-packages/spatialdata/_core/_elements.py:106: UserWarning: Key `transcripts` already exists. Overwriting it in-memory.\n",
      "  self._check_key(key, self.keys(), self._shared_keys)\n"
     ]
    }
   ],
   "source": [
    "# define points2regions_params\n",
    "points2regions_params = {\"num_clusters\": 100, \"pixel_width\": 0.4, \"pixel_smoothing\": 3.5}\n",
    "# run_segmentation_free\n",
    "troutpy.tl.segmentation_free_clustering(sdata, params=points2regions_params, x=\"x\", y=\"y\", feature_name=\"feature_name\", transcript_id=\"transcript_id\")"
   ]
  },
  {
   "cell_type": "code",
   "execution_count": 20,
   "metadata": {},
   "outputs": [
    {
     "data": {
      "text/plain": [
       "Dask Series Structure:\n",
       "npartitions=1\n",
       "0          float32\n",
       "5132695        ...\n",
       "Name: x, dtype: float32\n",
       "Dask Name: getitem, 27 graph layers"
      ]
     },
     "execution_count": 20,
     "metadata": {},
     "output_type": "execute_result"
    }
   ],
   "source": [
    "sdata.points[\"transcripts\"][\"x\"]"
   ]
  },
  {
   "cell_type": "markdown",
   "metadata": {},
   "source": [
    "The output of segmentation-free clustering is stored in ``sdata.tables['segmentation_free_table']`` as an AnnData object. In this object, every observation corresponds to an analyzed transcript, which has a Cluster assigned."
   ]
  },
  {
   "cell_type": "code",
   "execution_count": 13,
   "metadata": {},
   "outputs": [
    {
     "data": {
      "text/plain": [
       "AnnData object with n_obs × n_vars = 2114819 × 13035\n",
       "    obs: 'Clusters'\n",
       "    uns: 'reads'\n",
       "    obsm: 'spatial'"
      ]
     },
     "execution_count": 13,
     "metadata": {},
     "output_type": "execute_result"
    }
   ],
   "source": [
    "sdata.tables[\"segmentation_free_table\"]"
   ]
  },
  {
   "cell_type": "markdown",
   "metadata": {},
   "source": [
    "## Define extracellular transcripts"
   ]
  },
  {
   "cell_type": "markdown",
   "metadata": {},
   "source": [
    "Next, we will use the output of segmentation and segmentation-free analysis to define extracellular transcripts. For this, we will employ the command ``troutpy.pp.define_extracellular``. Essentially, extracellular transcripts will be defined as those:\n",
    "- Located outside segmented cells\n",
    "- Assigned to segmentation-free clusters that aren't mainly located inside segmented cells (thus, enriched outside)"
   ]
  },
  {
   "cell_type": "code",
   "execution_count": 21,
   "metadata": {},
   "outputs": [
    {
     "name": "stderr",
     "output_type": "stream",
     "text": [
      "/home/sergio/.local/lib/python3.10/site-packages/spatialdata/_core/_elements.py:106: UserWarning: Key `transcripts` already exists. Overwriting it in-memory.\n",
      "  self._check_key(key, self.keys(), self._shared_keys)\n"
     ]
    }
   ],
   "source": [
    "troutpy.pp.define_extracellular(sdata, method=\"segmentation_free\", min_prop_of_extracellular=0.8)"
   ]
  },
  {
   "cell_type": "markdown",
   "metadata": {},
   "source": [
    "As an output, a new column `extracellular` is created in ``sdata.points['transcripts']``. All reads considered extracellulared are assigned to True in this column. Following analysis will employ this column to divide cellular and extracellular transcripts"
   ]
  },
  {
   "cell_type": "code",
   "execution_count": 22,
   "metadata": {},
   "outputs": [
    {
     "data": {
      "text/plain": [
       "Dask Series Structure:\n",
       "npartitions=1\n",
       "0          bool\n",
       "5132695     ...\n",
       "Name: extracellular, dtype: bool\n",
       "Dask Name: getitem, 31 graph layers"
      ]
     },
     "execution_count": 22,
     "metadata": {},
     "output_type": "execute_result"
    }
   ],
   "source": [
    "sdata.points[\"transcripts\"][\"extracellular\"]"
   ]
  },
  {
   "cell_type": "markdown",
   "metadata": {},
   "source": [
    "## Write processed output"
   ]
  },
  {
   "cell_type": "markdown",
   "metadata": {},
   "source": [
    "Finally we save the processed sdata object with defined extracellular transcripts as sdata"
   ]
  },
  {
   "cell_type": "code",
   "execution_count": 7,
   "metadata": {},
   "outputs": [
    {
     "name": "stdout",
     "output_type": "stream",
     "text": [
      "\u001b[34mINFO    \u001b[0m The SpatialData object is not self-contained \u001b[1m(\u001b[0mi.e. it contains some elements that are Dask-backed from    \n",
      "         locations outside \u001b[35m/media/sergio/Discovair_final/\u001b[0m\u001b[95mmousebrain_prime_crop_points2regions.zarr\u001b[0m\u001b[1m)\u001b[0m. Please see the\n",
      "         documentation of `\u001b[1;35mis_self_contained\u001b[0m\u001b[1m(\u001b[0m\u001b[1m)\u001b[0m` to understand the implications of working with SpatialData objects \n",
      "         that are not self-contained.                                                                              \n",
      "\u001b[34mINFO    \u001b[0m The Zarr backing store has been changed from \u001b[35m/media/sergio/Discovair_final/\u001b[0m\u001b[95mmousebrain_prime_crop.zarr\u001b[0m the \n",
      "         new file path: \u001b[35m/media/sergio/Discovair_final/\u001b[0m\u001b[95mmousebrain_prime_crop_points2regions.zarr\u001b[0m                    \n"
     ]
    }
   ],
   "source": [
    "xenium_path_cropped = \"/media/sergio/Discovair_final/mousebrain_prime_crop_points2regions.zarr\"\n",
    "sdata.write(xenium_path_cropped, overwrite=True)"
   ]
  },
  {
   "cell_type": "markdown",
   "metadata": {},
   "source": [
    "# Alternative segmentation free: sainsc"
   ]
  },
  {
   "cell_type": "markdown",
   "metadata": {},
   "source": [
    "First we read the dataset"
   ]
  },
  {
   "cell_type": "code",
   "execution_count": 2,
   "metadata": {},
   "outputs": [],
   "source": [
    "xenium_path_cropped = \"/media/sergio/Meninges/troutpy/mousebrain_prime_crop_communication.zarr\"\n",
    "sdata = sd.read_zarr(xenium_path_cropped)"
   ]
  },
  {
   "cell_type": "markdown",
   "metadata": {},
   "source": [
    "An alternative approach is to use sainsc, which one can run using ``troutpy.pp.segmentation_free_sainsc``"
   ]
  },
  {
   "cell_type": "code",
   "execution_count": null,
   "metadata": {},
   "outputs": [],
   "source": [
    "troutpy.pp.segmentation_free_sainsc(sdata,binsize=3,celltype_key='leiden',\n",
    "                                    background_filter=0.4,gaussian_kernel_key=2.5,\n",
    "                                    n_threads=16)"
   ]
  },
  {
   "cell_type": "markdown",
   "metadata": {},
   "source": [
    "Next, we will use the output of segmentation and segmentation-free analysis to define extracellular transcripts. For this, we will employ the command ``troutpy.pp.define_extracellular``. Essentially, extracellular transcripts will be defined as those:\n",
    "- Located outside segmented cells\n",
    "- With a cosine similarity to any cellular signature lower than the x percentile_threshold of transcripts located inside the cell (defined in sainsc). Higher values will be considered cell-like transcripts"
   ]
  },
  {
   "cell_type": "code",
   "execution_count": null,
   "metadata": {},
   "outputs": [],
   "source": [
    "troutpy.pp.define_extracellular(\n",
    "    sdata,layer = \"transcripts\",method= \"sainsc\",\n",
    "    unassigned_tag = \"UNASSIGNED\",\n",
    "    copy = False, percentile_threshold = 2)"
   ]
  },
  {
   "cell_type": "markdown",
   "metadata": {},
   "source": [
    "# Results visualization"
   ]
  },
  {
   "cell_type": "code",
   "execution_count": 1,
   "metadata": {},
   "outputs": [
    {
     "ename": "NameError",
     "evalue": "name 'troutpy' is not defined",
     "output_type": "error",
     "traceback": [
      "\u001b[0;31m---------------------------------------------------------------------------\u001b[0m",
      "\u001b[0;31mNameError\u001b[0m                                 Traceback (most recent call last)",
      "Cell \u001b[0;32mIn[1], line 1\u001b[0m\n\u001b[0;32m----> 1\u001b[0m \u001b[43mtroutpy\u001b[49m\u001b[38;5;241m.\u001b[39mpl\u001b[38;5;241m.\u001b[39mpie(sdata, groupby\u001b[38;5;241m=\u001b[39m\u001b[38;5;124m\"\u001b[39m\u001b[38;5;124mextracellular\u001b[39m\u001b[38;5;124m\"\u001b[39m,group_key\u001b[38;5;241m=\u001b[39m\u001b[38;5;124m'\u001b[39m\u001b[38;5;124moverlaps_cell\u001b[39m\u001b[38;5;124m'\u001b[39m)\n",
      "\u001b[0;31mNameError\u001b[0m: name 'troutpy' is not defined"
     ]
    }
   ],
   "source": [
    "troutpy.pl.pie(sdata, groupby=\"extracellular\",group_key='overlaps_cell')"
   ]
  },
  {
   "cell_type": "code",
   "execution_count": null,
   "metadata": {},
   "outputs": [
    {
     "data": {
      "text/plain": [
       "<Figure size 500x500 with 0 Axes>"
      ]
     },
     "metadata": {},
     "output_type": "display_data"
    },
    {
     "data": {
      "image/png": "[encoded data removed]",
      "text/plain": [
       "<Figure size 640x480 with 1 Axes>"
      ]
     },
     "metadata": {},
     "output_type": "display_data"
    }
   ],
   "source": [
    "troutpy.pl.crosstab(sdata,yvar='extracellular',xvar='overlaps_cell',normalize=True, cmap='troutpy',kind='barh',stacked=True)"
   ]
  },
  {
   "cell_type": "code",
   "execution_count": null,
   "metadata": {},
   "outputs": [
    {
     "data": {
      "image/png": "[encoded data removed]",
      "text/plain": [
       "<Figure size 500x500 with 2 Axes>"
      ]
     },
     "metadata": {},
     "output_type": "display_data"
    }
   ],
   "source": [
    "troutpy.pl.crosstab(sdata,yvar='extracellular',xvar='overlaps_cell',normalize=True, cmap='Aquas',kind='heatmap',stacked=True)"
   ]
  }
 ],
 "metadata": {
  "kernelspec": {
   "display_name": "exrna",
   "language": "python",
   "name": "python3"
  },
  "language_info": {
   "codemirror_mode": {
    "name": "ipython",
    "version": 3
   },
   "file_extension": ".py",
   "mimetype": "text/x-python",
   "name": "python",
   "nbconvert_exporter": "python",
   "pygments_lexer": "ipython3",
   "version": "3.10.15"
  }
 },
 "nbformat": 4,
 "nbformat_minor": 2
}
