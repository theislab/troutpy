{
 "cells": [
  {
   "cell_type": "markdown",
   "metadata": {},
   "source": [
    "# 3. Quantify extracellular RNA"
   ]
  },
  {
   "cell_type": "markdown",
   "metadata": {},
   "source": [
    "After defining extracellular transcripts (previous notebooks), we will now focus on characterizing and quantifying the presence of exRNA for the different genes profiled in the dataset employing different strategies and tests"
   ]
  },
  {
   "cell_type": "markdown",
   "metadata": {},
   "source": [
    "## Import packages"
   ]
  },
  {
   "cell_type": "code",
   "execution_count": 2,
   "metadata": {},
   "outputs": [
    {
     "name": "stderr",
     "output_type": "stream",
     "text": [
      "/home/sergio/.local/lib/python3.10/site-packages/dask/dataframe/__init__.py:31: FutureWarning: The legacy Dask DataFrame implementation is deprecated and will be removed in a future version. Set the configuration option `dataframe.query-planning` to `True` or None to enable the new Dask Dataframe implementation and silence this warning.\n",
      "  warnings.warn(\n",
      "/home/sergio/.local/lib/python3.10/site-packages/numba/core/decorators.py:246: RuntimeWarning: nopython is set for njit and is ignored\n",
      "  warnings.warn('nopython is set for njit and is ignored', RuntimeWarning)\n",
      "/home/sergio/.local/lib/python3.10/site-packages/anndata/utils.py:429: FutureWarning: Importing read_text from `anndata` is deprecated. Import anndata.io.read_text instead.\n",
      "  warnings.warn(msg, FutureWarning)\n"
     ]
    }
   ],
   "source": [
    "import spatialdata as sd\n",
    "\n",
    "import troutpy"
   ]
  },
  {
   "cell_type": "markdown",
   "metadata": {},
   "source": [
    "## Read the SpatialData object"
   ]
  },
  {
   "cell_type": "markdown",
   "metadata": {},
   "source": [
    "We read the processed Spatialdata object, which was previously stored as .zarr"
   ]
  },
  {
   "cell_type": "code",
   "execution_count": 4,
   "metadata": {},
   "outputs": [],
   "source": [
    "xenium_path_cropped = \"/media/sergio/Discovair_final/mousebrain_prime_crop_communication_2.zarr\"\n",
    "sdata = sd.read_zarr(xenium_path_cropped)"
   ]
  },
  {
   "cell_type": "markdown",
   "metadata": {},
   "source": [
    "## Testing for expression over noise levels"
   ]
  },
  {
   "cell_type": "markdown",
   "metadata": {},
   "source": [
    "We implemented `troutpy.tl.quantify_overexpression` to identify **overexpressed genes relative to a noise threshold**.\n",
    "\n",
    "Essentially, it computes a threshold based on the counts of specified control features and compares gene counts against this threshold to determine overexpression. The function calculates log-fold changes for each gene, annotates metadata with these results. It returns updated spatial data along with per-gene scores and the calculated threshold"
   ]
  },
  {
   "cell_type": "code",
   "execution_count": 5,
   "metadata": {},
   "outputs": [
    {
     "name": "stdout",
     "output_type": "stream",
     "text": [
      "Added 'xrna_metadata' table with 13035 unique genes to the SpatialData object.\n"
     ]
    }
   ],
   "source": [
    "control_codewords = [\"negative_control_probe\", \"unassigned_codeword\", \"deprecated_codeword\", \"genomic_control_probe\", \"negative_control_codeword\"]\n",
    "\n",
    "troutpy.tl.quantify_overexpression(\n",
    "    sdata,\n",
    "    layer=\"transcripts\",\n",
    "    codeword_column=\"codeword_category\",\n",
    "    control_codewords=control_codewords,\n",
    "    gene_id_column=\"feature_name\",\n",
    "    percentile_threshold=99.99,\n",
    ")"
   ]
  },
  {
   "cell_type": "markdown",
   "metadata": {},
   "source": [
    "## Testing for proportion of extracellular transcripts"
   ]
  },
  {
   "cell_type": "markdown",
   "metadata": {},
   "source": [
    "The `troutpy.tl.extracellular_enrichment` function computes the proportions of extracellular and intracellular transcripts for each gene. \n",
    "\n",
    "Essentially, the function calculates: (1) the proportion of transcripts of each gene present extracellularly and (2) the log fold change of extracellular to intracellular proportions.  These results into the `sdata` object under the `xrna_metadata` layer."
   ]
  },
  {
   "cell_type": "code",
   "execution_count": 6,
   "metadata": {},
   "outputs": [],
   "source": [
    "troutpy.tl.extracellular_enrichment(sdata)"
   ]
  },
  {
   "cell_type": "markdown",
   "metadata": {},
   "source": [
    "## Testing for Spatial Variability"
   ]
  },
  {
   "cell_type": "markdown",
   "metadata": {},
   "source": [
    "The `troutpy.tl.spatial_variability` function quantifies the spatial variability of extracellular RNA using Moran's I, a metric for spatial autocorrelation."
   ]
  },
  {
   "cell_type": "code",
   "execution_count": 7,
   "metadata": {},
   "outputs": [
    {
     "name": "stderr",
     "output_type": "stream",
     "text": [
      "Extracting gene counts: 100%|██████████| 13031/13031 [00:00<00:00, 16485.54it/s]\n"
     ]
    }
   ],
   "source": [
    "troutpy.tl.spatial_variability(sdata, gene_id_key=\"feature_name\", coords_keys=[\"x\", \"y\"], n_neighbors=10, binsize=20)"
   ]
  },
  {
   "cell_type": "markdown",
   "metadata": {},
   "source": [
    "## Testing for local density"
   ]
  },
  {
   "cell_type": "markdown",
   "metadata": {},
   "source": [
    "The `spatial_colocalization` function evaluates the spatial colocalization of extracellular RNA transcripts in spatial transcriptomics data by identifying regions where transcripts from the same or different genes are found in close proximity. The function calculates the proportion of colocalized transcripts for each gene, using a user-defined threshold to define colocalization, and integrates these results into the metadata of the dataset for downstream analysis.\n",
    "\n",
    "The function calculates the proportion of colocalized transcripts for each gene based on a user-defined threshold, leveraging kernel density estimation to compute spatial gene expression densities. Results are integrated into the `sdata` object under the `xrna_metadata` layer."
   ]
  },
  {
   "cell_type": "code",
   "execution_count": 8,
   "metadata": {},
   "outputs": [
    {
     "name": "stderr",
     "output_type": "stream",
     "text": [
      "Extracting gene counts: 100%|██████████| 13031/13031 [00:07<00:00, 1814.27it/s]\n"
     ]
    }
   ],
   "source": [
    "troutpy.tl.spatial_colocalization(\n",
    "    sdata, coords_keys=[\"x\", \"y\"], gene_id_key=\"feature_name\", resolution=1000, binsize=5, threshold_colocalized=1, copy=False\n",
    ")"
   ]
  },
  {
   "cell_type": "markdown",
   "metadata": {},
   "source": [
    "## Save SpatialData as zarr"
   ]
  },
  {
   "cell_type": "markdown",
   "metadata": {},
   "source": [
    "The resulting dataset is finally stored in a new zarr object"
   ]
  },
  {
   "cell_type": "code",
   "execution_count": 10,
   "metadata": {},
   "outputs": [
    {
     "name": "stdout",
     "output_type": "stream",
     "text": [
      "\u001b[34mINFO    \u001b[0m The SpatialData object is not self-contained \u001b[1m(\u001b[0mi.e. it contains some elements that are Dask-backed from    \n",
      "         locations outside \u001b[35m/media/sergio/Discovair_final/\u001b[0m\u001b[95mmousebrain_prime_crop_communication.zarr\u001b[0m\u001b[1m)\u001b[0m. Please see the \n",
      "         documentation of `\u001b[1;35mis_self_contained\u001b[0m\u001b[1m(\u001b[0m\u001b[1m)\u001b[0m` to understand the implications of working with SpatialData objects \n",
      "         that are not self-contained.                                                                              \n",
      "\u001b[34mINFO    \u001b[0m The Zarr backing store has been changed from                                                              \n",
      "         \u001b[35m/media/sergio/Discovair_final/\u001b[0m\u001b[95mmousebrain_prime_crop_communication_2.zarr\u001b[0m the new file path:               \n",
      "         \u001b[35m/media/sergio/Discovair_final/\u001b[0m\u001b[95mmousebrain_prime_crop_communication.zarr\u001b[0m                                    \n"
     ]
    }
   ],
   "source": [
    "xenium_path_cropped = \"/media/sergio/Discovair_final/mousebrain_prime_crop_communication.zarr\"\n",
    "sdata.write(xenium_path_cropped, overwrite=True)"
   ]
  },
  {
   "cell_type": "markdown",
   "metadata": {},
   "source": [
    "### ---TO DO--- Create visualization for the output of different tests"
   ]
  },
  {
   "cell_type": "code",
   "execution_count": null,
   "metadata": {},
   "outputs": [],
   "source": [
    "xenium_path_cropped = \"/media/sergio/Discovair_final/mousebrain_prime_crop_quantified.zarr\"\n",
    "sdata = sd.read_zarr(xenium_path_cropped)"
   ]
  },
  {
   "cell_type": "code",
   "execution_count": null,
   "metadata": {},
   "outputs": [],
   "source": [
    "exrna_metrics = sdata[\"xrna_metadata\"].var\n",
    "# This ones are the most interesting ones, but others can be used\n",
    "exrna_metrics_filt = exrna_metrics.loc[:, [\"logfoldratio_over_noise\", \"logfoldratio_extracellular\", \"moran_I\", \"proportion_of_colocalized\"]]"
   ]
  },
  {
   "cell_type": "markdown",
   "metadata": {},
   "source": [
    "#### PLOTTING FUNCTION 1 (troutpy.pl)- lfr_over_noise grouped by gene type\n",
    "- **Aim**: Represent the logfoldratio over noise for different genes\n",
    "- **Input**: sdata[\"xrna_metadata\"].var\n",
    "- **Suggested Type of plot**: Either barplot, violin or stripplot, representing logfoldration over noise (`sdata[\"xrna_metadata\"]['logfoldratio_over_noise']`),  grouping genes in based on wether they are control probes or not (in sdata[\"xrna_metadata\"].var['control_probe'] column)\n",
    "-  **Returns**: None (besides the plot) "
   ]
  },
  {
   "cell_type": "markdown",
   "metadata": {},
   "source": [
    "#### PLOTTING FUNCTION 2 (troutpy.pl) Sorted scatterplot/barplot \n",
    "- **Aim**: Represent, for a given metric, the genes sorted by them. (the logfoldratio extracellular or extracellular_proportion). Maybe highlighting top-bottom genes with highest-lower scores\n",
    "- **Input**: sdata -- from which all info needed will be under `sdata[\"xrna_metadata\"].var`, the name column in `sdata[\"xrna_metadata\"].var` (str) (e.g. 'moran_i','extracellular_proportion')\n",
    "- **Suggested Type of plot**: Either sorted scatter plot, stripplot,barplot or similar, representing extracellular proportion over genes. Maybe color based on  sdata[\"xrna_metadata\"].var['control probe']\n",
    "- **Return**: None"
   ]
  },
  {
   "cell_type": "markdown",
   "metadata": {},
   "source": [
    "#### PLOTTING FUNCTION 3 (troutpy.pl)- Scatterplot\n",
    "- **Aim**: For each gene, represent two of the metrics side by side, in the form of a scatter plot\n",
    "- **Input**: sdata -- from which all info needed will be under sdata[\"xrna_metadata\"].var, x and y axes\n",
    "- **Suggested Type of plot**: Scatterplot, maybe colored by control probe column as well\n",
    "(sdata[\"xrna_metadata\"].var['control probe'])\n",
    "- **Return**: None"
   ]
  },
  {
   "cell_type": "markdown",
   "metadata": {},
   "source": [
    "#### PLOTTING FUNCTION 4 (troutpy.pl)- Summary visualization\n",
    "- **Aim**: Represent in a tabular plot (heatmap, dotplot) the overall score for individual genes on different metrics.\n",
    "- **Input**: sdata -- from which all info needed will be under `sdata[\"xrna_metadata\"].var`, list of columns in `sdata[\"xrna_metadata\"].var`, maybe list of genes to be visualized? if all are too many.\n",
    "- **Suggested Type of plot**: Heatmap, dotplot or similar. Take sc.pl.dotplot/ sc.tl.matrixplot as reference?\n",
    "- **Return**: None"
   ]
  }
 ],
 "metadata": {
  "kernelspec": {
   "display_name": "exrna",
   "language": "python",
   "name": "python3"
  },
  "language_info": {
   "codemirror_mode": {
    "name": "ipython",
    "version": 3
   },
   "file_extension": ".py",
   "mimetype": "text/x-python",
   "name": "python",
   "nbconvert_exporter": "python",
   "pygments_lexer": "ipython3",
   "version": "3.10.15"
  }
 },
 "nbformat": 4,
 "nbformat_minor": 2
}
