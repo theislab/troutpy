{
 "cells": [
  {
   "cell_type": "markdown",
   "id": "471562d7-d0d9-46ce-8b72-debea0c435c8",
   "metadata": {},
   "source": [
    "# Baysor Segmentation\n",
    "- Tested on Ubuntu, follow installation guide on https://kharchenkolab.github.io/Baysor/dev/installation/\n",
    "- Make sure to adapt xenium.toml according to the structure of your data"
   ]
  },
  {
   "cell_type": "markdown",
   "id": "61428c43-3d1f-4bc9-a5e6-b2c4fe150fa5",
   "metadata": {},
   "source": [
    "## Xenium"
   ]
  },
  {
   "cell_type": "code",
   "execution_count": 1,
   "id": "86a33a51-ffa0-44f6-b233-d39e7b90df05",
   "metadata": {},
   "outputs": [],
   "source": [
    "import pandas as pd\n",
    "import scanpy as sc"
   ]
  },
  {
   "cell_type": "code",
   "execution_count": 49,
   "id": "88e7ad91-1de0-4b94-adae-cfdeac1df874",
   "metadata": {},
   "outputs": [],
   "source": [
    "# only the transcripts are needed\n",
    "path_to_xenium_points = \"/home/icb/michael.dammann/troutpy/notebooks/spatialdata_tutorials/test_data.zarr/points/transcripts/points.parquet\"\n",
    "data_frame = pd.read_parquet(path_to_xenium_points)"
   ]
  },
  {
   "cell_type": "code",
   "execution_count": 50,
   "id": "1a8638cd-0a52-46fb-ba74-b461b8d3455d",
   "metadata": {},
   "outputs": [],
   "source": [
    "#min_qv = 20.0\n",
    "min_x = min(data_frame['x'])\n",
    "max_x = max(data_frame['x'])\n",
    "min_y = min(data_frame['y'])\n",
    "max_y = max(data_frame['y'])"
   ]
  },
  {
   "cell_type": "code",
   "execution_count": 51,
   "id": "7e9ed04e-624a-49c1-b385-f2147498ee84",
   "metadata": {},
   "outputs": [],
   "source": [
    "data_frame = data_frame.dropna(subset=[\"feature_name\"])"
   ]
  },
  {
   "cell_type": "code",
   "execution_count": 52,
   "id": "bf3e8029-ffd4-4964-b514-5c55731d1584",
   "metadata": {},
   "outputs": [],
   "source": [
    "import pandas as pd\n",
    "\n",
    "# Assume you're working with a Dask DataFrame\n",
    "df = data_frame.copy()\n",
    "\n",
    "# Convert to Pandas if needed\n",
    "df = df.compute() if not isinstance(df, pd.DataFrame) else df\n",
    "\n",
    "# Isolate the non-\"UNASSIGNED\" values\n",
    "mask = df[\"cell_id\"] != \"UNASSIGNED\"\n",
    "unique_ids = df.loc[mask, \"cell_id\"].unique()\n",
    "\n",
    "# Create a mapping: \"UNASSIGNED\" remains as string, others get int codes\n",
    "id_map = {cid: i for i, cid in enumerate(sorted(unique_ids))}\n",
    "df[\"cell_id_encoded\"] = df[\"cell_id\"].apply(lambda x: id_map[x] if x in id_map else \"UNASSIGNED\")\n",
    "\n",
    "data_frame = df"
   ]
  },
  {
   "cell_type": "code",
   "execution_count": 54,
   "id": "d74eb666-8900-40c0-94c5-9f568a408b88",
   "metadata": {},
   "outputs": [],
   "source": [
    "def process(data_frame):\n",
    "    # Filter transcripts. Ignore negative controls\n",
    "    filtered_frame = data_frame[#(data_frame[\"qv\"] >= min_qv) & -> done by Baysor? -> commented out\n",
    "                                (data_frame[\"x\"] >= min_x) &\n",
    "                                (data_frame[\"x\"] <= max_x) &\n",
    "                                (data_frame[\"y\"] >= min_y) &\n",
    "                                (data_frame[\"y\"] <= max_y)]\n",
    "\n",
    "    # Change cell_id of cell-free transcripts from -1 to 0 (done by Baysor -> commented out)\n",
    "    #neg_cell_row = filtered_frame[\"cell_id\"] == 'UNASSIGNED'\n",
    "    #filtered_frame.loc[neg_cell_row,\"cell_id\"] = '0'\n",
    "\n",
    "    # Output filtered transcripts to CSV\n",
    "    filtered_frame.to_csv('_'.join([\"X\"+str(min_x)+\"-\"+str(max_x), \"Y\"+str(min_y)+\"-\"+str(max_y), \"filtered_transcripts.csv\"]),\n",
    "                          index=False,\n",
    "                          encoding = 'utf-8')\n"
   ]
  },
  {
   "cell_type": "code",
   "execution_count": 55,
   "id": "5d8b3e4d-4796-462e-b26c-c45abb02b226",
   "metadata": {},
   "outputs": [],
   "source": [
    "process(data_frame)"
   ]
  },
  {
   "cell_type": "markdown",
   "id": "568a6a9f-db72-4431-a22b-2b92986d4c91",
   "metadata": {},
   "source": [
    "## Running Baysor\n",
    "\n",
    "Baysor needs to be installed (see Link above), then run:\n",
    "baysor run -c xenium.toml X5100.015625-5200.0_Y1912.515625-5200.0_filtered_transcripts.csv :cell_id_encoded\n",
    "\n",
    "baysor might not be in PATH, then either: add to PATH, or use whole path, like:\n",
    "/home/.../bin/baysor/bin/baysor run -c xenium.toml X5100.015625-5200.0_Y1912.515625-5200.0_filtered_transcripts.csv :cell_id_encoded\n",
    "\n",
    "Depending on where the toml and csv are saved, their file names might need to be replaced by the relative or absolute path."
   ]
  },
  {
   "cell_type": "code",
   "execution_count": 58,
   "id": "11f7e483-02b7-4a43-976a-ea01b61a32c3",
   "metadata": {},
   "outputs": [],
   "source": [
    "results_df = pd.read_csv(\"segmentation.csv\")"
   ]
  },
  {
   "cell_type": "code",
   "execution_count": 59,
   "id": "dbc4aa37-0eca-4fc6-b34e-9cea150864db",
   "metadata": {},
   "outputs": [
    {
     "name": "stdout",
     "output_type": "stream",
     "text": [
      "                x          y          z   gene     cell_id  nucleus_distance  \\\n",
      "0       5108.5938  2544.7344  19.687500  Snrpn  hfigbpgi-1          0.468750   \n",
      "1       5115.5156  2549.7344  16.234375  Snrpn  hfhpappo-1          2.109375   \n",
      "2       5120.7344  2549.6406  16.937500  Snrpn  hfhpappo-1          0.968750   \n",
      "3       5123.9062  2525.4531  15.546875  Snrpn  hfhfdcbd-1          0.000000   \n",
      "4       5133.2344  2530.6094  18.359375  Snrpn  hfiofbjb-1          2.265625   \n",
      "...           ...        ...        ...    ...         ...               ...   \n",
      "353395  5128.7656  2544.9531  19.359375  Snrpn  hfhfnclc-1          0.000000   \n",
      "353396  5131.1094  2536.3594  18.750000  Snrpn  hfinedai-1          0.812500   \n",
      "353397  5147.8280  2516.2344  19.906250  Snrpn  hfgljmbb-1          0.328125   \n",
      "353398  5170.9688  2537.3438  18.718750  Snrpn  hfgfaonh-1          1.093750   \n",
      "353399  5177.8280  2501.0781  17.671875  Snrpn  UNASSIGNED          1.921875   \n",
      "\n",
      "        overlaps_nucleus fov_name  is_gene     qv  ... extracellular  \\\n",
      "0                      0      D14     True  36.75  ...          True   \n",
      "1                      0      D14     True  23.50  ...          True   \n",
      "2                      0      D14     True  40.00  ...          True   \n",
      "3                      1      D14     True  26.50  ...          True   \n",
      "4                      0      D14     True  33.00  ...          True   \n",
      "...                  ...      ...      ...    ...  ...           ...   \n",
      "353395                 1      D14     True  26.50  ...          True   \n",
      "353396                 0      D14     True  20.75  ...          True   \n",
      "353397                 0      D14     True  22.75  ...          True   \n",
      "353398                 0      D14     True  31.75  ...          True   \n",
      "353399                 0      D14     True  20.50  ...          True   \n",
      "\n",
      "        cell_id_encoded  molecule_id  prior_segmentation  confidence  cluster  \\\n",
      "0                  1150            1                  70     0.99929        3   \n",
      "1                  1147            2                  67     0.82981        3   \n",
      "2                  1147            3                  67     0.99868        3   \n",
      "3                  1141            4                  61     0.99810        3   \n",
      "4                  1158            5                  78     0.99897        3   \n",
      "...                 ...          ...                 ...         ...      ...   \n",
      "353395             1142       353396                  62     0.99730        3   \n",
      "353396             1156       353397                  76     0.99835        3   \n",
      "353397             1136       353398                  56     0.99854        3   \n",
      "353398             1134       353399                  54     0.99925        3   \n",
      "353399       UNASSIGNED       353400                   0     0.99739        3   \n",
      "\n",
      "                   cell assignment_confidence  is_noise  ncv_color  \n",
      "0       CR4d155991b-855                  0.74     False    #F5A18A  \n",
      "1       CR4d155991b-880                  1.00     False    #EB9D98  \n",
      "2       CR4d155991b-880                  1.00     False    #9D8CAE  \n",
      "3       CR4d155991b-854                  1.00     False    #00C9FF  \n",
      "4       CR4d155991b-872                  0.84     False    #FF9398  \n",
      "...                 ...                   ...       ...        ...  \n",
      "353395  CR4d155991b-881                  1.00     False    #8588A6  \n",
      "353396  CR4d155991b-872                  1.00     False    #D2ABBB  \n",
      "353397  CR4d155991b-874                  1.00     False    #F89191  \n",
      "353398  CR4d155991b-915                  1.00     False    #00BAFF  \n",
      "353399  CR4d155991b-879                  1.00     False    #CCAAAD  \n",
      "\n",
      "[353400 rows x 26 columns]\n"
     ]
    }
   ],
   "source": [
    "print(results_df)"
   ]
  }
 ],
 "metadata": {
  "kernelspec": {
   "display_name": "Python 3 (ipykernel)",
   "language": "python",
   "name": "python3"
  },
  "language_info": {
   "codemirror_mode": {
    "name": "ipython",
    "version": 3
   },
   "file_extension": ".py",
   "mimetype": "text/x-python",
   "name": "python",
   "nbconvert_exporter": "python",
   "pygments_lexer": "ipython3",
   "version": "3.9.19"
  }
 },
 "nbformat": 4,
 "nbformat_minor": 5
}
